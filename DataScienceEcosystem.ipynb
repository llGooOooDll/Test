{
 "cells": [
  {
   "cell_type": "markdown",
   "metadata": {},
   "source": [
    "# Data Science Tools and Ecosystem"
   ]
  },
  {
   "cell_type": "markdown",
   "metadata": {},
   "source": [
    "In this notebook, Data Science Tools and Ecosystem are summarized."
   ]
  },
  {
   "cell_type": "markdown",
   "metadata": {},
   "source": [
    "Some of the popular languages that Data Scientists use are:\n",
    "1. Python\n",
    "2. SQL\n",
    "3. R"
   ]
  },
  {
   "cell_type": "markdown",
   "metadata": {},
   "source": [
    "Some of the commonly used libraries used by Data Scientists include:\n",
    "1. NumPy\n",
    "2. Pandas\n",
    "3. Matplotlib"
   ]
  },
  {
   "cell_type": "markdown",
   "metadata": {},
   "source": [
    "| Data Science Tools |\n",
    "| :---------------- |\n",
    "| Jupyter Notebook  |\n",
    "| RStudio          |\n",
    "| Spyder           |"
   ]
  },
  {
   "cell_type": "markdown",
   "metadata": {},
   "source": [
    "### introducing arithmetic expression examples\n",
    "Addition (+): Combining two or more numbers to find their sum.\n",
    "Example: 5 + 3 = 8\n",
    "\n",
    "Subtraction (-): Finding the difference between two numbers.\n",
    "Example: 10 - 4 = 6\n",
    "\n",
    "Multiplication (x or *): Repeatedly adding a number to itself a certain number of times.\n",
    "Example: 2 x 6 = 12 or 2 * 6 = 12\n",
    "\n",
    "Division (÷ or /): Splitting a number into equal parts or finding how many times one number fits into another.\n",
    "Example: 15 ÷ 3 = 5 or 15 / 3 = 5\n",
    "\n",
    "Exponentiation (^) or (**): Raising a number to a power, which means multiplying it by itself a certain number of times.\n",
    "Example: 2 ^ 3 = 8 or 2 ** 3 = 8 (2 multiplied by itself 3 times)"
   ]
  },
  {
   "cell_type": "code",
   "execution_count": 1,
   "metadata": {},
   "outputs": [
    {
     "data": {
      "text/plain": [
       "17"
      ]
     },
     "execution_count": 1,
     "metadata": {},
     "output_type": "execute_result"
    }
   ],
   "source": [
    "(3*4)+5\n",
    "#This a simple arithmetic expression to mutiply then add integers"
   ]
  },
  {
   "cell_type": "code",
   "execution_count": 3,
   "metadata": {},
   "outputs": [
    {
     "data": {
      "text/plain": [
       "3.3333333333333335"
      ]
     },
     "execution_count": 3,
     "metadata": {},
     "output_type": "execute_result"
    }
   ],
   "source": [
    "200/60\n",
    "#This will convert 200 minutes to hours by diving by 60"
   ]
  },
  {
   "cell_type": "markdown",
   "metadata": {},
   "source": [
    "**Objectives:**\n",
    "\n",
    "*   List popular languages for Data Science.\n",
    "*   Introduce common libraries used in data science.\n",
    "*   Explore development environment tools for data science.\n",
    "*   Create basic tables in markdown.\n",
    "*   Understand arithmetic expressions."
   ]
  },
  {
   "cell_type": "markdown",
   "metadata": {},
   "source": [
    "## Arthor\n",
    "Chuan Tse Lee"
   ]
  }
 ],
 "metadata": {
  "kernelspec": {
   "display_name": "Python 3",
   "language": "python",
   "name": "python3"
  },
  "language_info": {
   "codemirror_mode": {
    "name": "ipython",
    "version": 3
   },
   "file_extension": ".py",
   "mimetype": "text/x-python",
   "name": "python",
   "nbconvert_exporter": "python",
   "pygments_lexer": "ipython3",
   "version": "3.12.2"
  }
 },
 "nbformat": 4,
 "nbformat_minor": 2
}
